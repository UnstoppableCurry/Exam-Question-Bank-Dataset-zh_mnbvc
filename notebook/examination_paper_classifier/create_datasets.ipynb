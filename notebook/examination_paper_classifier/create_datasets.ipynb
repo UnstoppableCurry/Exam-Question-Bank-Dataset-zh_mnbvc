{
 "cells": [
  {
   "cell_type": "code",
   "execution_count": 1,
   "id": "e004081c",
   "metadata": {},
   "outputs": [],
   "source": [
    "import datasets\n",
    "import glob\n",
    "from pathlib import Path\n",
    "import sys\n",
    "import os\n",
    "from tqdm import tqdm\n",
    "\n",
    "sys.path.append('../../')\n",
    "\n",
    "from examination_paper_classifier import extract_text"
   ]
  },
  {
   "cell_type": "code",
   "execution_count": 2,
   "id": "8fc35813",
   "metadata": {},
   "outputs": [],
   "source": [
    "# 存一个序列，用于转化dataset，这里简单的用了dict，也可以pandas等\n",
    "train_dataset_dict = {\"text\":[], \"label\":[], \"file_path\":[]}"
   ]
  },
  {
   "cell_type": "code",
   "execution_count": 4,
   "id": "8439f9d6-67f8-47ff-8943-1229ebf53f9f",
   "metadata": {},
   "outputs": [
    {
     "data": {
      "text/plain": [
       "Dataset({\n",
       "    features: ['text', 'label', 'file_path'],\n",
       "    num_rows: 312\n",
       "})"
      ]
     },
     "execution_count": 4,
     "metadata": {},
     "output_type": "execute_result"
    }
   ],
   "source": [
    "# 如果之前存在dataset\n",
    "datadict = datasets.load_from_disk(\"../dataset\")\n",
    "train_dataset = datadict[\"train\"]\n",
    "train_dataset"
   ]
  },
  {
   "cell_type": "code",
   "execution_count": 6,
   "id": "d68b3d03-1efd-434a-b706-8a98550fbdac",
   "metadata": {},
   "outputs": [
    {
     "data": {
      "text/plain": [
       "312"
      ]
     },
     "execution_count": 6,
     "metadata": {},
     "output_type": "execute_result"
    }
   ],
   "source": [
    "exists_file_path = {row[\"file_path\"] for row in train_dataset}\n",
    "len(exists_file_path)"
   ]
  },
  {
   "cell_type": "code",
   "execution_count": 7,
   "id": "bd15cef2",
   "metadata": {},
   "outputs": [
    {
     "name": "stderr",
     "output_type": "stream",
     "text": [
      "100%|███████████████████████████████████████████████████████████████████████████████████████████████████████████████| 250/250 [00:10<00:00, 24.31it/s]\n"
     ]
    }
   ],
   "source": [
    "train_examination_paper_file_folder = Path(\"../negative_file\")\n",
    "all_negative_files = train_examination_paper_file_folder.glob(\"**/*.doc\")\n",
    "\n",
    "for file_path in tqdm(list(all_negative_files)):\n",
    "    if str(file_path) in exists_file_path:\n",
    "        continue\n",
    "        \n",
    "    try:\n",
    "        ext = file_path.suffix\n",
    "        text = extract_text(str(file_path), ext)\n",
    "\n",
    "        if text:\n",
    "            train_dataset_dict[\"text\"].append(text)\n",
    "            train_dataset_dict[\"label\"].append(1)\n",
    "            train_dataset_dict[\"file_path\"].append(str(file_path))\n",
    "    except Exception as e:\n",
    "        # print(f\"Error processing file {file_path}: {e}\")\n",
    "        continue"
   ]
  },
  {
   "cell_type": "code",
   "execution_count": 8,
   "id": "a07924dd",
   "metadata": {},
   "outputs": [
    {
     "name": "stderr",
     "output_type": "stream",
     "text": [
      "100%|█████████████████████████████████████████████████████████████████████████████████████████████████████████████████| 85/85 [00:01<00:00, 46.11it/s]\n"
     ]
    }
   ],
   "source": [
    "train_not_examination_paper_file_folder = Path(\"../positive_file\")\n",
    "all_positive_files = train_not_examination_paper_file_folder.glob(\"**/*.doc\")\n",
    "\n",
    "for file_path in tqdm(list(all_positive_files)):\n",
    "    if str(file_path) in exists_file_path:\n",
    "        continue\n",
    "        \n",
    "    try:\n",
    "        ext = file_path.suffix\n",
    "        text = extract_text(str(file_path), ext)\n",
    "\n",
    "        if text:\n",
    "            train_dataset_dict[\"text\"].append(text)\n",
    "            train_dataset_dict[\"label\"].append(0)\n",
    "            train_dataset_dict[\"file_path\"].append(str(file_path))\n",
    "    except Exception as e:\n",
    "        continue"
   ]
  },
  {
   "cell_type": "code",
   "execution_count": 9,
   "id": "cd080e7f",
   "metadata": {},
   "outputs": [
    {
     "data": {
      "text/plain": [
       "Dataset({\n",
       "    features: ['text', 'label', 'file_path'],\n",
       "    num_rows: 312\n",
       "})"
      ]
     },
     "execution_count": 9,
     "metadata": {},
     "output_type": "execute_result"
    }
   ],
   "source": [
    "train_dataset = datasets.Dataset.from_dict(train_dataset_dict)\n",
    "train_dataset"
   ]
  },
  {
   "cell_type": "code",
   "execution_count": 10,
   "id": "8520da83-a49d-4b8d-9caa-731a611334c3",
   "metadata": {},
   "outputs": [],
   "source": [
    "datadict = datasets.DatasetDict({\n",
    "    \"train\": train_dataset\n",
    "})"
   ]
  },
  {
   "cell_type": "code",
   "execution_count": 11,
   "id": "29ca0b11",
   "metadata": {},
   "outputs": [
    {
     "data": {
      "application/vnd.jupyter.widget-view+json": {
       "model_id": "",
       "version_major": 2,
       "version_minor": 0
      },
      "text/plain": [
       "Saving the dataset (0/1 shards):   0%|          | 0/312 [00:00<?, ? examples/s]"
      ]
     },
     "metadata": {},
     "output_type": "display_data"
    }
   ],
   "source": [
    "datadict.save_to_disk(\"./dataset\")"
   ]
  },
  {
   "cell_type": "code",
   "execution_count": null,
   "id": "5cbc3ae8-c55d-4a5d-8f77-75628bb21783",
   "metadata": {},
   "outputs": [],
   "source": []
  }
 ],
 "metadata": {
  "kernelspec": {
   "display_name": "Python 3 (ipykernel)",
   "language": "python",
   "name": "python3"
  },
  "language_info": {
   "codemirror_mode": {
    "name": "ipython",
    "version": 3
   },
   "file_extension": ".py",
   "mimetype": "text/x-python",
   "name": "python",
   "nbconvert_exporter": "python",
   "pygments_lexer": "ipython3",
   "version": "3.10.12"
  }
 },
 "nbformat": 4,
 "nbformat_minor": 5
}
